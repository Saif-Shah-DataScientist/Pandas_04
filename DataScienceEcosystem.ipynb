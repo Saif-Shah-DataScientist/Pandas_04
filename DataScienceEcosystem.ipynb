{
 "cells": [
  {
   "cell_type": "markdown",
   "id": "2d761e6a-d6f1-409c-84c1-05d44d5f8542",
   "metadata": {},
   "source": [
    "# Data Science Tools and Ecosystem"
   ]
  },
  {
   "cell_type": "markdown",
   "id": "884b357d-fd2d-4559-82c0-779f3a117f50",
   "metadata": {},
   "source": [
    "# In this notebook, Data Science Tools and Ecosystem are summarized."
   ]
  },
  {
   "cell_type": "markdown",
   "id": "d5753cc5-a8d5-4fca-8b72-7230a2593f93",
   "metadata": {},
   "source": [
    "# Some of the popular languages that Data Scientists use are:\n",
    "1. Python\n",
    "2. Sql\n",
    "3. R"
   ]
  },
  {
   "cell_type": "markdown",
   "id": "aafd92cd-3640-49a5-87f1-63ecb881fc1b",
   "metadata": {},
   "source": [
    "# Some of the commonly used libraries used by Data Scientists include:\n",
    "1. Pandas\n",
    "2. Numpy\n",
    "3. Matlotlib"
   ]
  },
  {
   "cell_type": "markdown",
   "id": "a42341da-ade2-4004-9e65-f367da92cfb5",
   "metadata": {},
   "source": [
    "|Data Science Tools|\n",
    "|------------------|\n",
    "|Jupyter Notebook  |\n",
    "|RStudio           |\n",
    "|Apache Zeppelin   |\n"
   ]
  },
  {
   "cell_type": "markdown",
   "id": "c0aeacfd-9866-41ba-a062-6ade8f7e154d",
   "metadata": {},
   "source": [
    "### Below are a few examples of evaluating arithmetic expressions in Python"
   ]
  },
  {
   "cell_type": "code",
   "execution_count": 61,
   "id": "72319cb1-ebd4-4a82-bc47-d60e548f85cc",
   "metadata": {},
   "outputs": [
    {
     "data": {
      "text/plain": [
       "17"
      ]
     },
     "execution_count": 61,
     "metadata": {},
     "output_type": "execute_result"
    }
   ],
   "source": [
    "# This a simple arithmetic expression to mutiply then add integers\n",
    "(3*4)+5"
   ]
  },
  {
   "cell_type": "code",
   "execution_count": 48,
   "id": "55ff70e8-fb99-4165-8ab6-a1f11d01f53b",
   "metadata": {},
   "outputs": [
    {
     "data": {
      "text/plain": [
       "3.3333333333333335"
      ]
     },
     "execution_count": 48,
     "metadata": {},
     "output_type": "execute_result"
    }
   ],
   "source": [
    "# This will convert 200 minutes to hours by diving by 60\n",
    "200 / 60"
   ]
  },
  {
   "cell_type": "markdown",
   "id": "f25c0b57-8cd6-4b32-9e45-caa3764ff090",
   "metadata": {},
   "source": [
    "**Objectives:**\n",
    "- List popular languages for Data Science  \n",
    "- List commonly used Data Science libraries  \n",
    "- Create tables in Markdown  \n",
    "- Convert minutes to hours using Python expressions  \n",
    "- Understand GitHub basics"
   ]
  },
  {
   "cell_type": "markdown",
   "id": "bb657527-ecfe-4156-a0a4-46c9b8b64720",
   "metadata": {},
   "source": [
    "## Author\n",
    "Saifullah Khalid"
   ]
  }
 ],
 "metadata": {
  "kernelspec": {
   "display_name": "Python 3 (ipykernel)",
   "language": "python",
   "name": "python3"
  },
  "language_info": {
   "codemirror_mode": {
    "name": "ipython",
    "version": 3
   },
   "file_extension": ".py",
   "mimetype": "text/x-python",
   "name": "python",
   "nbconvert_exporter": "python",
   "pygments_lexer": "ipython3",
   "version": "3.12.7"
  }
 },
 "nbformat": 4,
 "nbformat_minor": 5
}
